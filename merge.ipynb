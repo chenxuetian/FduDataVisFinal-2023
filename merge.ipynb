{
 "cells": [
  {
   "cell_type": "code",
   "execution_count": 1,
   "metadata": {},
   "outputs": [
    {
     "name": "stdout",
     "output_type": "stream",
     "text": [
      "Successfully read 1194576 records.\n"
     ]
    }
   ],
   "source": [
    "import util\n",
    "data_dir = \"data/1.3_traffic/\"\n",
    "id_dir = \"merged_data_ids/1.3_traffic/\"\n",
    "all_records = util.read_data(data_dir,id_dir,10)"
   ]
  },
  {
   "cell_type": "code",
   "execution_count": 2,
   "metadata": {},
   "outputs": [],
   "source": [
    "import pandas as pd\n",
    "import geopandas as gpd\n",
    "from shapely.geometry import LineString,Point\n",
    "df = pd.DataFrame(all_records)\n",
    "df[\"time\"] = df[\"time_meas\"].apply(lambda x: util.align_timestamp(x,10))\n",
    "df.sort_values(by=['time',\"id\"],inplace=True)"
   ]
  },
  {
   "cell_type": "code",
   "execution_count": 3,
   "metadata": {},
   "outputs": [],
   "source": [
    "road_data_gdf = gpd.read_file(r'lane_clean\\\\lane_v3.geojson')\n",
    "\n",
    "df['geometry'] = df.apply(lambda row: Point(row['position']['x'], row['position']['y']), axis=1)\n",
    "gdf = gpd.GeoDataFrame(df, geometry='geometry')"
   ]
  },
  {
   "cell_type": "code",
   "execution_count": 10,
   "metadata": {},
   "outputs": [
    {
     "data": {
      "image/svg+xml": [
       "<svg xmlns=\"http://www.w3.org/2000/svg\" xmlns:xlink=\"http://www.w3.org/1999/xlink\" width=\"100.0\" height=\"100.0\" viewBox=\"145.925762223444 -151.691538726156 27.227105120412006 40.395572517312004\" preserveAspectRatio=\"xMinYMin meet\"><g transform=\"matrix(1,0,0,-1,0,-262.987504935)\"><polyline fill=\"none\" stroke=\"#66cc99\" stroke-width=\"0.8079114503462401\" points=\"171.6567350284,-112.7920985243 171.3847562605,-113.2121391929 171.1127755897,-113.6321811655 170.8407927808,-114.0522246033 170.568807599,-114.4722696672 170.2968198107,-114.8923165174 170.0248291832,-115.3123653132 169.7528354851,-115.7324162132 169.480838486,-116.1524693754 169.2088379569,-116.5725249566 168.9368336702,-116.9925831129 168.6648253997,-117.4126439992 168.3928129209,-117.8327077694 168.1207960109,-118.2527745763 167.8487744486,-118.6728445713 167.5767480146,-119.0929179048 167.3047164915,-119.5129947259 167.032679664,-119.9330751819 166.7606373187,-120.3531594192 166.4885892446,-120.7732475825 166.2165352328,-121.1933398147 165.9444750767,-121.6134362575 165.6724085724,-122.0335370507 165.4003355183,-122.4536423324 165.1282557153,-122.873752239 164.8561689671,-123.293866905 164.5840750801,-123.7139864632 164.3119738637,-124.1341110441 164.0398651298,-124.5542407766 163.7677486937,-124.9743757875 163.4956243734,-125.3945162012 163.2234919902,-125.8146621403 162.9513513685,-126.2348137251 162.6792023361,-126.6549710737 162.4070447239,-127.0751343019 162.1348783663,-127.4953035232 161.8627031012,-127.9154788487 161.59051877,-128.3356603872 161.3183252175,-128.7558482447 161.0461222925,-129.1760425252 160.7739098471,-129.5962433299 160.5016877375,-130.0164507573 160.2294558235,-130.4366649036 159.9572139688,-130.856885862 159.6849620411,-131.2771137234 159.4126999122,-131.6973485755 159.1404274575,-132.1175905037 158.868144557,-132.5378395904 158.5958510944,-132.958095915 158.3235469579,-133.3783595544 158.0512320397,-133.7986305823 157.7789062364,-134.2189090697 157.5065694487,-134.6391950844 157.2342215819,-135.0594886916 156.9618625454,-135.4797899531 156.6894922534,-135.9000989279 156.4171106241,-136.320415672 156.1447175805,-136.7407402382 155.87231305,-137.1610726762 155.5998969645,-137.5814130327 155.3274692605,-138.0017613512 155.0550298791,-138.422117672 154.7825787661,-138.8424820324 154.5101158717,-139.2628544663 154.2376411511,-139.6832350047 153.9651545638,-140.103623675 153.6926560743,-140.5240205019 153.4201456515,-140.9444255064 153.1476232694,-141.3648387064 152.8750889064,-141.7852601169 152.6025425458,-142.2056897491 152.3299841755,-142.6261276114 152.0574137883,-143.0465737087 151.7848313817,-143.4670280427 151.5122369578,-143.887490612 151.2396305237,-144.3079614118 150.967012091,-144.7284404339 150.6943816763,-145.1489276672 150.4217393008,-145.5694230971 150.1490849904,-145.9899267058 149.8764187757,-146.4104384723 149.6037406923,-146.8309583723 149.3310507801,-147.2514863784 149.0583490841,-147.6720224598 148.7856356536,-148.0925665827 148.5129105427,-148.5131187099 148.2401738102,-148.9336788013 147.9674255194,-149.3542468134 147.6946657381,-149.7748226997 147.4218945389,-150.1954064107\" opacity=\"0.8\" /></g></svg>"
      ],
      "text/plain": [
       "<LINESTRING (171.657 -112.792, 171.385 -113.212, 171.113 -113.632, 170.841 -...>"
      ]
     },
     "execution_count": 10,
     "metadata": {},
     "output_type": "execute_result"
    }
   ],
   "source": [
    "road_data_gdf.loc[1,'geometry']"
   ]
  },
  {
   "cell_type": "code",
   "execution_count": 4,
   "metadata": {},
   "outputs": [
    {
     "name": "stderr",
     "output_type": "stream",
     "text": [
      "1194576it [5:08:49, 64.47it/s] \n"
     ]
    }
   ],
   "source": [
    "import tqdm\n",
    "record = dict()\n",
    "\n",
    "for index, vehicle in tqdm.tqdm(gdf.iterrows()):\n",
    "    # 计算车辆与所有道路中心线的最小距离\n",
    "    if df.loc[index][\"type\"] in [1,4,5,6]:\n",
    "        min_distance = float('inf')\n",
    "        nearest_lane_fid = None\n",
    "        for _, road in road_data_gdf.iterrows():\n",
    "            distance = vehicle.geometry.distance(road.geometry)\n",
    "            if distance < min_distance:\n",
    "                min_distance = distance\n",
    "                nearest_lane_fid = road.fid\n",
    "        time = int(df.loc[index]['time'])\n",
    "        if nearest_lane_fid not in record.keys():\n",
    "            record[nearest_lane_fid] = {}\n",
    "        if time not in record[nearest_lane_fid].keys():\n",
    "            record[nearest_lane_fid][time] = {\"num\":0,\"v\":0,'stop_num':0}\n",
    "        record[nearest_lane_fid][time]['v'] = (record[nearest_lane_fid][time][\"v\"]*record[nearest_lane_fid][time][\"num\"] + df.loc[index][\"velocity\"])/(record[nearest_lane_fid][time][\"num\"]+1)\n",
    "        record[nearest_lane_fid][time]['num'] = record[nearest_lane_fid][time]['num']+1\n",
    "        if df.loc[index][\"velocity\"] < 0.5:\n",
    "            record[nearest_lane_fid][time]['stop_num'] = record[nearest_lane_fid][time]['stop_num']+1\n",
    "\n",
    "\n",
    "import json\n",
    "with open(\"data_jam_10.json\", \"w\") as f:\n",
    "    json.dump(record, f, ensure_ascii=False)\n"
   ]
  },
  {
   "cell_type": "code",
   "execution_count": 1,
   "metadata": {},
   "outputs": [],
   "source": [
    "crossing_lane_map = {\n",
    "        1:{\n",
    "            'left':{\n",
    "                'in_cross':[\"78\",\"77\",\"76\"],\n",
    "                'out_cross':['79','80'],\n",
    "            },\n",
    "            'down':{\n",
    "                'in_cross':['37','36','35'],\n",
    "                'out_cross':['33','34'],\n",
    "            },\n",
    "            'right':{\n",
    "                'in_cross':['85','84','83'],\n",
    "                'out_cross':['81','82']\n",
    "            }\n",
    "        },\n",
    "        2:{\n",
    "            'left':{\n",
    "                'in_cross':[\"90\",\"89\",\"88\"],\n",
    "                'out_cross':['91','92'],\n",
    "            },\n",
    "            'down':{\n",
    "                'in_cross':['235','236','237','238'],\n",
    "                'out_cross':['239','240','241'],\n",
    "            },\n",
    "            'right':{\n",
    "                'in_cross':['97','96','95'],\n",
    "                'out_cross':['93','94']\n",
    "            }\n",
    "        },\n",
    "        3:{\n",
    "            'left':{\n",
    "                'in_cross':[\"102\",\"101\",\"100\"],\n",
    "                'out_cross':['103','104'],\n",
    "            },\n",
    "            'down':{\n",
    "                'in_cross':['219','328','327'],\n",
    "                'out_cross':['326','208'],\n",
    "            },\n",
    "            'right':{\n",
    "                'in_cross':['109','108','107'],\n",
    "                'out_cross':['105','106']\n",
    "            }\n",
    "        },\n",
    "        4:{\n",
    "            'left':{\n",
    "                'in_cross':[\"114\",\"113\",\"112\"],\n",
    "                'out_cross':['115','116'],\n",
    "            },\n",
    "            'down':{\n",
    "                'in_cross':['228','229','230','231'],\n",
    "                'out_cross':['232','233','234','223'],\n",
    "            },\n",
    "            'right':{\n",
    "                'in_cross':['121','120','119'],\n",
    "                'out_cross':['117','118']\n",
    "            }\n",
    "        },\n",
    "        5:{\n",
    "            'left':{\n",
    "                'in_cross':[\"205\",\"191\",\"190\",'189','188','187'],\n",
    "                'out_cross':['192','193','194','195','196','206'],\n",
    "            },\n",
    "            'down':{\n",
    "                'in_cross':['71','70','69'],\n",
    "                'out_cross':['67','68'],\n",
    "            },\n",
    "            'right':{\n",
    "                'in_cross':['203','202','201','200'],\n",
    "                'out_cross':['199','198','197'],\n",
    "            },\n",
    "            'up':{\n",
    "                'in_cross':['64','63','62'],\n",
    "                'out_cross':['65','66'],\n",
    "            }\n",
    "        },\n",
    "        6:{\n",
    "            'left':{\n",
    "                'in_cross':[\"262\",\"261\",\"260\",'259'],\n",
    "                'out_cross':['264','265'],\n",
    "            },\n",
    "            'down':{\n",
    "                'in_cross':['325','324','323','322'],\n",
    "                'out_cross':['319','320','321'],\n",
    "            },\n",
    "            'right':{\n",
    "                'in_cross':['284','283','282','281'],\n",
    "                'out_cross':['272','273','274','275','276'],\n",
    "            },\n",
    "            'up':{\n",
    "                'in_cross':['303','302','301','300'],\n",
    "                'out_cross':['304','305','306'],\n",
    "            }\n",
    "        },\n",
    "        7:{\n",
    "            'left':{\n",
    "                'in_cross':[\"137\",\"136\",\"135\",'134','133'],\n",
    "                'out_cross':['129','130','131','132'],\n",
    "            },\n",
    "            'down':{\n",
    "                'in_cross':['225','5','4','3'],\n",
    "                'out_cross':['339','340','220'],\n",
    "            },\n",
    "            'right':{\n",
    "                'in_cross':['157','156','155','154','153'],\n",
    "                'out_cross':['138','139','140'],\n",
    "            },\n",
    "            'up':{\n",
    "                'in_cross':['213','336','335'],\n",
    "                'out_cross':['337','338','214'],\n",
    "            }\n",
    "        },\n",
    "        8:{\n",
    "            'left':{\n",
    "                'in_cross':[\"147\",\"146\",\"145\",'144','143'],\n",
    "                'out_cross':['148','149','150'],\n",
    "            },\n",
    "            'down':{\n",
    "                'in_cross':['170','169','168','167'],\n",
    "                'out_cross':['164','165','166'],\n",
    "            },\n",
    "            'right':{\n",
    "                'in_cross':['184','183','182','181','180'],\n",
    "                'out_cross':['171','172','173','174'],\n",
    "            },\n",
    "            'up':{\n",
    "                'in_cross':['160','159','158'],\n",
    "                'out_cross':['161','162','163'],\n",
    "            }\n",
    "        },\n",
    "        9:{\n",
    "            'down':{\n",
    "                'in_cross':['20','19','18'],\n",
    "                'out_cross':['12','13','14'],\n",
    "            },\n",
    "            'up':{\n",
    "                'in_cross':['225','26','25','24'],\n",
    "                'out_cross':['27','28','29','226'],\n",
    "            }\n",
    "        },\n",
    "    }"
   ]
  },
  {
   "cell_type": "code",
   "execution_count": 2,
   "metadata": {},
   "outputs": [],
   "source": [
    "import json\n",
    "with open(\"crossing_lane_map.json\", \"w\") as f:\n",
    "    json.dump(crossing_lane_map, f, ensure_ascii=False,indent=4)"
   ]
  }
 ],
 "metadata": {
  "kernelspec": {
   "display_name": "Python 3",
   "language": "python",
   "name": "python3"
  },
  "language_info": {
   "codemirror_mode": {
    "name": "ipython",
    "version": 3
   },
   "file_extension": ".py",
   "mimetype": "text/x-python",
   "name": "python",
   "nbconvert_exporter": "python",
   "pygments_lexer": "ipython3",
   "version": "3.10.10"
  }
 },
 "nbformat": 4,
 "nbformat_minor": 2
}
